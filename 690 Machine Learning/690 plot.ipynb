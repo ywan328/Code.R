{
 "cells": [
  {
   "cell_type": "code",
   "execution_count": 1,
   "metadata": {},
   "outputs": [],
   "source": [
    "import pandas as pd\n",
    "import seaborn as sns\n",
    "import matplotlib.pyplot as plt\n",
    "%matplotlib inline"
   ]
  },
  {
   "cell_type": "code",
   "execution_count": 2,
   "metadata": {},
   "outputs": [
    {
     "data": {
      "text/html": [
       "<div>\n",
       "<style scoped>\n",
       "    .dataframe tbody tr th:only-of-type {\n",
       "        vertical-align: middle;\n",
       "    }\n",
       "\n",
       "    .dataframe tbody tr th {\n",
       "        vertical-align: top;\n",
       "    }\n",
       "\n",
       "    .dataframe thead th {\n",
       "        text-align: right;\n",
       "    }\n",
       "</style>\n",
       "<table border=\"1\" class=\"dataframe\">\n",
       "  <thead>\n",
       "    <tr style=\"text-align: right;\">\n",
       "      <th></th>\n",
       "      <th>STORE</th>\n",
       "      <th>UPC</th>\n",
       "      <th>WEEK</th>\n",
       "      <th>MOVE</th>\n",
       "      <th>QTY</th>\n",
       "      <th>PRICE</th>\n",
       "      <th>SALE</th>\n",
       "      <th>PROFIT</th>\n",
       "      <th>OK</th>\n",
       "      <th>PRICE_HEX</th>\n",
       "      <th>PROFIT_HEX</th>\n",
       "    </tr>\n",
       "  </thead>\n",
       "  <tbody>\n",
       "    <tr>\n",
       "      <th>0</th>\n",
       "      <td>2</td>\n",
       "      <td>294</td>\n",
       "      <td>298</td>\n",
       "      <td>11</td>\n",
       "      <td>1</td>\n",
       "      <td>2.62</td>\n",
       "      <td>NaN</td>\n",
       "      <td>-18.83</td>\n",
       "      <td>1</td>\n",
       "      <td>4004F5C28F5C28F6</td>\n",
       "      <td>C032D47AE147AE14</td>\n",
       "    </tr>\n",
       "    <tr>\n",
       "      <th>1</th>\n",
       "      <td>2</td>\n",
       "      <td>294</td>\n",
       "      <td>299</td>\n",
       "      <td>9</td>\n",
       "      <td>1</td>\n",
       "      <td>2.51</td>\n",
       "      <td>NaN</td>\n",
       "      <td>18.47</td>\n",
       "      <td>1</td>\n",
       "      <td>4004147AE147AE14</td>\n",
       "      <td>40327851EB851EB8</td>\n",
       "    </tr>\n",
       "    <tr>\n",
       "      <th>2</th>\n",
       "      <td>2</td>\n",
       "      <td>294</td>\n",
       "      <td>300</td>\n",
       "      <td>6</td>\n",
       "      <td>1</td>\n",
       "      <td>2.49</td>\n",
       "      <td>NaN</td>\n",
       "      <td>13.60</td>\n",
       "      <td>1</td>\n",
       "      <td>4003EB851EB851EC</td>\n",
       "      <td>402B333333333333</td>\n",
       "    </tr>\n",
       "    <tr>\n",
       "      <th>3</th>\n",
       "      <td>2</td>\n",
       "      <td>294</td>\n",
       "      <td>301</td>\n",
       "      <td>5</td>\n",
       "      <td>1</td>\n",
       "      <td>2.99</td>\n",
       "      <td>NaN</td>\n",
       "      <td>-67.89</td>\n",
       "      <td>1</td>\n",
       "      <td>4007EB851EB851EC</td>\n",
       "      <td>C050F8F5C28F5C29</td>\n",
       "    </tr>\n",
       "    <tr>\n",
       "      <th>4</th>\n",
       "      <td>2</td>\n",
       "      <td>294</td>\n",
       "      <td>302</td>\n",
       "      <td>1</td>\n",
       "      <td>1</td>\n",
       "      <td>2.49</td>\n",
       "      <td>NaN</td>\n",
       "      <td>13.60</td>\n",
       "      <td>1</td>\n",
       "      <td>4003EB851EB851EC</td>\n",
       "      <td>402B333333333333</td>\n",
       "    </tr>\n",
       "  </tbody>\n",
       "</table>\n",
       "</div>"
      ],
      "text/plain": [
       "   STORE  UPC  WEEK  MOVE  QTY  PRICE SALE  PROFIT  OK         PRICE_HEX  \\\n",
       "0      2  294   298    11    1   2.62  NaN  -18.83   1  4004F5C28F5C28F6   \n",
       "1      2  294   299     9    1   2.51  NaN   18.47   1  4004147AE147AE14   \n",
       "2      2  294   300     6    1   2.49  NaN   13.60   1  4003EB851EB851EC   \n",
       "3      2  294   301     5    1   2.99  NaN  -67.89   1  4007EB851EB851EC   \n",
       "4      2  294   302     1    1   2.49  NaN   13.60   1  4003EB851EB851EC   \n",
       "\n",
       "         PROFIT_HEX  \n",
       "0  C032D47AE147AE14  \n",
       "1  40327851EB851EB8  \n",
       "2  402B333333333333  \n",
       "3  C050F8F5C28F5C29  \n",
       "4  402B333333333333  "
      ]
     },
     "execution_count": 2,
     "metadata": {},
     "output_type": "execute_result"
    }
   ],
   "source": [
    "mvbeer = pd.read_csv(r'C:\\Users\\ywan3\\Desktop\\mvbr.csv',nrows=100000)\n",
    "mvbeer.head()"
   ]
  },
  {
   "cell_type": "code",
   "execution_count": 3,
   "metadata": {},
   "outputs": [
    {
     "data": {
      "text/plain": [
       "array([298, 299, 300, 301, 302, 303, 304, 305, 306, 307, 308, 309, 310,\n",
       "       311, 312, 313, 314, 315, 316, 317, 318, 319, 320, 321, 322, 323,\n",
       "       324, 325, 326, 327, 328, 329, 330, 331, 332, 333, 334, 335, 336,\n",
       "       337, 338, 339, 340, 341, 342, 343, 344, 345, 346, 347, 348, 349,\n",
       "       350, 351, 352, 353, 354, 355, 356, 357, 358, 359, 360, 361, 362,\n",
       "       363, 364, 365, 366, 367, 368, 369, 370, 371, 294, 295, 296, 297,\n",
       "       274, 275, 276, 277, 278, 279, 280, 281, 282, 283, 286, 287, 288,\n",
       "       289, 290, 291, 292, 293, 248, 249, 250, 251, 252, 253, 254, 255,\n",
       "       256, 257, 258, 259, 260, 261, 266, 267, 268, 269, 270, 271, 272,\n",
       "       273, 372, 373, 374, 375, 376, 377, 378, 379, 380, 381, 382, 383,\n",
       "       384, 385, 386, 387, 388, 389, 390, 391, 392, 393, 394, 395, 396,\n",
       "       397, 398, 399, 186, 187, 188, 189, 190, 191, 192, 193, 194, 195,\n",
       "       196, 197, 198, 199, 200, 201, 202, 203, 204, 205, 206, 207, 208,\n",
       "       209, 210, 211, 212, 213, 214, 215, 216, 217, 218, 219, 220, 221,\n",
       "       222, 223, 224, 225, 226, 227, 228, 229, 230, 231, 232, 233, 234,\n",
       "       235, 236, 237, 238, 239, 240, 241, 242, 243, 244, 245, 246, 247,\n",
       "       184, 185,  91,  92,  93,  94,  95,  96,  97,  98,  99, 100, 101,\n",
       "       102, 103, 104, 105, 106, 107, 108, 109, 110, 111, 112, 113, 114,\n",
       "       115, 116, 117, 118, 119, 120, 121, 122, 123, 124, 125, 126, 127,\n",
       "       128, 129, 130, 131, 132, 133, 134, 135, 136, 137, 138, 139, 140,\n",
       "       141, 142, 143, 144, 145, 146, 147, 148, 149, 150, 151, 152, 153,\n",
       "       154, 155, 156, 157, 158, 159, 160, 161, 162, 163, 164, 165, 166,\n",
       "       167, 168, 169, 170, 171, 172, 173, 174, 175, 176, 177, 178, 179,\n",
       "       180, 181, 182, 183], dtype=int64)"
      ]
     },
     "execution_count": 3,
     "metadata": {},
     "output_type": "execute_result"
    }
   ],
   "source": [
    "mvbeer.WEEK.unique()\n"
   ]
  },
  {
   "cell_type": "code",
   "execution_count": 4,
   "metadata": {},
   "outputs": [
    {
     "data": {
      "image/png": "[encoded data removed]",
      "text/plain": [
       "<Figure size 432x288 with 1 Axes>"
      ]
     },
     "metadata": {},
     "output_type": "display_data"
    }
   ],
   "source": [
    "\n",
    "plt.scatter(mvbeer.WEEK, mvbeer.PROFIT, c=\"g\",marker=\",\",s=1,alpha=0.5)\n",
    "plt.xlabel(\"week\")\n",
    "plt.ylabel(\"profit\")\n",
    "plt.legend(loc='upper left')\n",
    "plt.title(\"Profit vs Week\")\n",
    "plt.show()"
   ]
  },
  {
   "cell_type": "code",
   "execution_count": 5,
   "metadata": {},
   "outputs": [
    {
     "data": {
      "image/png": "[encoded data removed]",
      "text/plain": [
       "<Figure size 432x288 with 1 Axes>"
      ]
     },
     "metadata": {},
     "output_type": "display_data"
    }
   ],
   "source": [
    "plt.scatter(mvbeer.MOVE, mvbeer.PROFIT, c=\"b\",s=1, alpha=0.5)\n",
    "plt.xlabel(\"move\")\n",
    "plt.ylabel(\"profit\")\n",
    "plt.legend(loc='upper left')\n",
    "plt.title(\"Profit vs Move\")\n",
    "plt.show()"
   ]
  }
 ],
 "metadata": {
  "kernelspec": {
   "display_name": "Python 3",
   "language": "python",
   "name": "python3"
  },
  "language_info": {
   "codemirror_mode": {
    "name": "ipython",
    "version": 3
   },
   "file_extension": ".py",
   "mimetype": "text/x-python",
   "name": "python",
   "nbconvert_exporter": "python",
   "pygments_lexer": "ipython3",
   "version": "3.6.5"
  }
 },
 "nbformat": 4,
 "nbformat_minor": 2
}
